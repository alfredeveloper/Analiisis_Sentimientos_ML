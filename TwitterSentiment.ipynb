{
 "cells": [
  {
   "cell_type": "markdown",
   "metadata": {},
   "source": [
    "# Proyecto final de Soporte \n",
    "# Reconocimiento de sentimiento de tweets de Tweeter"
   ]
  },
  {
   "cell_type": "markdown",
   "metadata": {},
   "source": [
    "## Paso 01: Analisis del dataset"
   ]
  },
  {
   "cell_type": "markdown",
   "metadata": {},
   "source": [
    "### importando librerias"
   ]
  },
  {
   "cell_type": "code",
   "execution_count": 2,
   "metadata": {},
   "outputs": [
    {
     "name": "stderr",
     "output_type": "stream",
     "text": [
      "c:\\users\\alfredo\\appdata\\local\\programs\\python\\python36-32\\lib\\site-packages\\sklearn\\cross_validation.py:41: DeprecationWarning: This module was deprecated in version 0.18 in favor of the model_selection module into which all the refactored classes and functions are moved. Also note that the interface of the new CV iterators are different from that of this module. This module will be removed in 0.20.\n",
      "  \"This module will be removed in 0.20.\", DeprecationWarning)\n",
      "c:\\users\\alfredo\\appdata\\local\\programs\\python\\python36-32\\lib\\site-packages\\sklearn\\grid_search.py:42: DeprecationWarning: This module was deprecated in version 0.18 in favor of the model_selection module into which all the refactored classes and functions are moved. This module will be removed in 0.20.\n",
      "  DeprecationWarning)\n",
      "c:\\users\\alfredo\\appdata\\local\\programs\\python\\python36-32\\lib\\site-packages\\sklearn\\learning_curve.py:22: DeprecationWarning: This module was deprecated in version 0.18 in favor of the model_selection module into which all the functions are moved. This module will be removed in 0.20\n",
      "  DeprecationWarning)\n"
     ]
    }
   ],
   "source": [
    "%matplotlib inline\n",
    "import pandas as pd\n",
    "import csv\n",
    "import numpy as np\n",
    "import matplotlib.pyplot as plt\n",
    "import sklearn\n",
    "from textblob import TextBlob\n",
    "import nltk\n",
    "from sklearn.feature_extraction.text import CountVectorizer, TfidfTransformer\n",
    "from sklearn.naive_bayes import MultinomialNB\n",
    "from sklearn.svm import SVC, LinearSVC\n",
    "from sklearn.metrics import classification_report, f1_score, accuracy_score, confusion_matrix\n",
    "from sklearn.pipeline import Pipeline\n",
    "from sklearn.grid_search import GridSearchCV\n",
    "from sklearn.cross_validation import StratifiedKFold, cross_val_score, train_test_split \n",
    "from sklearn.tree import DecisionTreeClassifier \n",
    "from sklearn.learning_curve import learning_curve\n",
    "#nltk.download('wordnet')\n",
    "#nltk.download('punkt')\n",
    "#nltk.download('averaged_perceptron_tagger')"
   ]
  },
  {
   "cell_type": "markdown",
   "metadata": {},
   "source": [
    "### Obteniendo el dataset"
   ]
  },
  {
   "cell_type": "code",
   "execution_count": 3,
   "metadata": {},
   "outputs": [
    {
     "data": {
      "text/html": [
       "<div>\n",
       "<style scoped>\n",
       "    .dataframe tbody tr th:only-of-type {\n",
       "        vertical-align: middle;\n",
       "    }\n",
       "\n",
       "    .dataframe tbody tr th {\n",
       "        vertical-align: top;\n",
       "    }\n",
       "\n",
       "    .dataframe thead th {\n",
       "        text-align: right;\n",
       "    }\n",
       "</style>\n",
       "<table border=\"1\" class=\"dataframe\">\n",
       "  <thead>\n",
       "    <tr style=\"text-align: right;\">\n",
       "      <th></th>\n",
       "      <th>ItemID</th>\n",
       "      <th>Sentiment</th>\n",
       "      <th>SentimentText</th>\n",
       "    </tr>\n",
       "  </thead>\n",
       "  <tbody>\n",
       "    <tr>\n",
       "      <th>0</th>\n",
       "      <td>1</td>\n",
       "      <td>0</td>\n",
       "      <td>is so sad for my APL frie...</td>\n",
       "    </tr>\n",
       "    <tr>\n",
       "      <th>1</th>\n",
       "      <td>2</td>\n",
       "      <td>0</td>\n",
       "      <td>I missed the New Moon trail...</td>\n",
       "    </tr>\n",
       "    <tr>\n",
       "      <th>2</th>\n",
       "      <td>3</td>\n",
       "      <td>1</td>\n",
       "      <td>omg its already 7:30 :O</td>\n",
       "    </tr>\n",
       "    <tr>\n",
       "      <th>3</th>\n",
       "      <td>4</td>\n",
       "      <td>0</td>\n",
       "      <td>.. Omgaga. Im sooo  im gunna CRy. I'...</td>\n",
       "    </tr>\n",
       "    <tr>\n",
       "      <th>4</th>\n",
       "      <td>5</td>\n",
       "      <td>0</td>\n",
       "      <td>i think mi bf is cheating on me!!!   ...</td>\n",
       "    </tr>\n",
       "  </tbody>\n",
       "</table>\n",
       "</div>"
      ],
      "text/plain": [
       "   ItemID  Sentiment                                      SentimentText\n",
       "0       1          0                       is so sad for my APL frie...\n",
       "1       2          0                     I missed the New Moon trail...\n",
       "2       3          1                            omg its already 7:30 :O\n",
       "3       4          0            .. Omgaga. Im sooo  im gunna CRy. I'...\n",
       "4       5          0           i think mi bf is cheating on me!!!   ..."
      ]
     },
     "execution_count": 3,
     "metadata": {},
     "output_type": "execute_result"
    }
   ],
   "source": [
    "messages = pd.read_csv('train.csv', encoding = \"ISO-8859-1\")\n",
    "messages.head()"
   ]
  },
  {
   "cell_type": "markdown",
   "metadata": {},
   "source": [
    "### Estadistica descriptiva"
   ]
  },
  {
   "cell_type": "code",
   "execution_count": 4,
   "metadata": {},
   "outputs": [
    {
     "data": {
      "text/html": [
       "<div>\n",
       "<style scoped>\n",
       "    .dataframe tbody tr th:only-of-type {\n",
       "        vertical-align: middle;\n",
       "    }\n",
       "\n",
       "    .dataframe tbody tr th {\n",
       "        vertical-align: top;\n",
       "    }\n",
       "\n",
       "    .dataframe thead tr th {\n",
       "        text-align: left;\n",
       "    }\n",
       "\n",
       "    .dataframe thead tr:last-of-type th {\n",
       "        text-align: right;\n",
       "    }\n",
       "</style>\n",
       "<table border=\"1\" class=\"dataframe\">\n",
       "  <thead>\n",
       "    <tr>\n",
       "      <th></th>\n",
       "      <th colspan=\"8\" halign=\"left\">ItemID</th>\n",
       "    </tr>\n",
       "    <tr>\n",
       "      <th></th>\n",
       "      <th>count</th>\n",
       "      <th>mean</th>\n",
       "      <th>std</th>\n",
       "      <th>min</th>\n",
       "      <th>25%</th>\n",
       "      <th>50%</th>\n",
       "      <th>75%</th>\n",
       "      <th>max</th>\n",
       "    </tr>\n",
       "    <tr>\n",
       "      <th>Sentiment</th>\n",
       "      <th></th>\n",
       "      <th></th>\n",
       "      <th></th>\n",
       "      <th></th>\n",
       "      <th></th>\n",
       "      <th></th>\n",
       "      <th></th>\n",
       "      <th></th>\n",
       "    </tr>\n",
       "  </thead>\n",
       "  <tbody>\n",
       "    <tr>\n",
       "      <th>0</th>\n",
       "      <td>43532.0</td>\n",
       "      <td>47383.876413</td>\n",
       "      <td>29754.229279</td>\n",
       "      <td>1.0</td>\n",
       "      <td>20397.75</td>\n",
       "      <td>46716.0</td>\n",
       "      <td>73366.0</td>\n",
       "      <td>99998.0</td>\n",
       "    </tr>\n",
       "    <tr>\n",
       "      <th>1</th>\n",
       "      <td>56457.0</td>\n",
       "      <td>52026.250775</td>\n",
       "      <td>27994.983763</td>\n",
       "      <td>3.0</td>\n",
       "      <td>28281.00</td>\n",
       "      <td>52305.0</td>\n",
       "      <td>76096.0</td>\n",
       "      <td>100000.0</td>\n",
       "    </tr>\n",
       "  </tbody>\n",
       "</table>\n",
       "</div>"
      ],
      "text/plain": [
       "            ItemID                                                      \\\n",
       "             count          mean           std  min       25%      50%   \n",
       "Sentiment                                                                \n",
       "0          43532.0  47383.876413  29754.229279  1.0  20397.75  46716.0   \n",
       "1          56457.0  52026.250775  27994.983763  3.0  28281.00  52305.0   \n",
       "\n",
       "                              \n",
       "               75%       max  \n",
       "Sentiment                     \n",
       "0          73366.0   99998.0  \n",
       "1          76096.0  100000.0  "
      ]
     },
     "execution_count": 4,
     "metadata": {},
     "output_type": "execute_result"
    }
   ],
   "source": [
    "messages.groupby('Sentiment').describe()"
   ]
  },
  {
   "cell_type": "markdown",
   "metadata": {},
   "source": [
    "### Creamos la columna length para calcular la logitud de los tweets"
   ]
  },
  {
   "cell_type": "code",
   "execution_count": 6,
   "metadata": {},
   "outputs": [
    {
     "data": {
      "text/html": [
       "<div>\n",
       "<style scoped>\n",
       "    .dataframe tbody tr th:only-of-type {\n",
       "        vertical-align: middle;\n",
       "    }\n",
       "\n",
       "    .dataframe tbody tr th {\n",
       "        vertical-align: top;\n",
       "    }\n",
       "\n",
       "    .dataframe thead th {\n",
       "        text-align: right;\n",
       "    }\n",
       "</style>\n",
       "<table border=\"1\" class=\"dataframe\">\n",
       "  <thead>\n",
       "    <tr style=\"text-align: right;\">\n",
       "      <th></th>\n",
       "      <th>ItemID</th>\n",
       "      <th>Sentiment</th>\n",
       "      <th>SentimentText</th>\n",
       "      <th>length</th>\n",
       "    </tr>\n",
       "  </thead>\n",
       "  <tbody>\n",
       "    <tr>\n",
       "      <th>0</th>\n",
       "      <td>1</td>\n",
       "      <td>0</td>\n",
       "      <td>is so sad for my APL frie...</td>\n",
       "      <td>61</td>\n",
       "    </tr>\n",
       "    <tr>\n",
       "      <th>1</th>\n",
       "      <td>2</td>\n",
       "      <td>0</td>\n",
       "      <td>I missed the New Moon trail...</td>\n",
       "      <td>51</td>\n",
       "    </tr>\n",
       "    <tr>\n",
       "      <th>2</th>\n",
       "      <td>3</td>\n",
       "      <td>1</td>\n",
       "      <td>omg its already 7:30 :O</td>\n",
       "      <td>37</td>\n",
       "    </tr>\n",
       "    <tr>\n",
       "      <th>3</th>\n",
       "      <td>4</td>\n",
       "      <td>0</td>\n",
       "      <td>.. Omgaga. Im sooo  im gunna CRy. I'...</td>\n",
       "      <td>132</td>\n",
       "    </tr>\n",
       "    <tr>\n",
       "      <th>4</th>\n",
       "      <td>5</td>\n",
       "      <td>0</td>\n",
       "      <td>i think mi bf is cheating on me!!!   ...</td>\n",
       "      <td>53</td>\n",
       "    </tr>\n",
       "    <tr>\n",
       "      <th>5</th>\n",
       "      <td>6</td>\n",
       "      <td>0</td>\n",
       "      <td>or i just worry too much?</td>\n",
       "      <td>42</td>\n",
       "    </tr>\n",
       "    <tr>\n",
       "      <th>6</th>\n",
       "      <td>7</td>\n",
       "      <td>1</td>\n",
       "      <td>Juuuuuuuuuuuuuuuuussssst Chillin!!</td>\n",
       "      <td>41</td>\n",
       "    </tr>\n",
       "    <tr>\n",
       "      <th>7</th>\n",
       "      <td>8</td>\n",
       "      <td>0</td>\n",
       "      <td>Sunny Again        Work Tomorrow  :-|  ...</td>\n",
       "      <td>61</td>\n",
       "    </tr>\n",
       "    <tr>\n",
       "      <th>8</th>\n",
       "      <td>9</td>\n",
       "      <td>1</td>\n",
       "      <td>handed in my uniform today . i miss you ...</td>\n",
       "      <td>53</td>\n",
       "    </tr>\n",
       "    <tr>\n",
       "      <th>9</th>\n",
       "      <td>10</td>\n",
       "      <td>1</td>\n",
       "      <td>hmmmm.... i wonder how she my number @-)</td>\n",
       "      <td>46</td>\n",
       "    </tr>\n",
       "    <tr>\n",
       "      <th>10</th>\n",
       "      <td>11</td>\n",
       "      <td>0</td>\n",
       "      <td>I must think about positive..</td>\n",
       "      <td>35</td>\n",
       "    </tr>\n",
       "    <tr>\n",
       "      <th>11</th>\n",
       "      <td>12</td>\n",
       "      <td>1</td>\n",
       "      <td>thanks to all the haters up in my face a...</td>\n",
       "      <td>61</td>\n",
       "    </tr>\n",
       "    <tr>\n",
       "      <th>12</th>\n",
       "      <td>13</td>\n",
       "      <td>0</td>\n",
       "      <td>this weekend has sucked so far</td>\n",
       "      <td>36</td>\n",
       "    </tr>\n",
       "    <tr>\n",
       "      <th>13</th>\n",
       "      <td>14</td>\n",
       "      <td>0</td>\n",
       "      <td>jb isnt showing in australia any more!</td>\n",
       "      <td>43</td>\n",
       "    </tr>\n",
       "    <tr>\n",
       "      <th>14</th>\n",
       "      <td>15</td>\n",
       "      <td>0</td>\n",
       "      <td>ok thats it you win.</td>\n",
       "      <td>25</td>\n",
       "    </tr>\n",
       "    <tr>\n",
       "      <th>15</th>\n",
       "      <td>16</td>\n",
       "      <td>0</td>\n",
       "      <td>&amp;lt;-------- This is the way i feel right ...</td>\n",
       "      <td>52</td>\n",
       "    </tr>\n",
       "    <tr>\n",
       "      <th>16</th>\n",
       "      <td>17</td>\n",
       "      <td>0</td>\n",
       "      <td>awhhe man.... I'm completely useless rt no...</td>\n",
       "      <td>101</td>\n",
       "    </tr>\n",
       "    <tr>\n",
       "      <th>17</th>\n",
       "      <td>18</td>\n",
       "      <td>1</td>\n",
       "      <td>Feeling strangely fine. Now I'm gonna go l...</td>\n",
       "      <td>82</td>\n",
       "    </tr>\n",
       "    <tr>\n",
       "      <th>18</th>\n",
       "      <td>19</td>\n",
       "      <td>0</td>\n",
       "      <td>HUGE roll of thunder just now...SO scary!!!!</td>\n",
       "      <td>48</td>\n",
       "    </tr>\n",
       "    <tr>\n",
       "      <th>19</th>\n",
       "      <td>20</td>\n",
       "      <td>0</td>\n",
       "      <td>I just cut my beard off. It's only been gr...</td>\n",
       "      <td>136</td>\n",
       "    </tr>\n",
       "    <tr>\n",
       "      <th>20</th>\n",
       "      <td>21</td>\n",
       "      <td>0</td>\n",
       "      <td>Very sad about Iran.</td>\n",
       "      <td>24</td>\n",
       "    </tr>\n",
       "    <tr>\n",
       "      <th>21</th>\n",
       "      <td>22</td>\n",
       "      <td>0</td>\n",
       "      <td>wompppp wompp</td>\n",
       "      <td>17</td>\n",
       "    </tr>\n",
       "    <tr>\n",
       "      <th>22</th>\n",
       "      <td>23</td>\n",
       "      <td>1</td>\n",
       "      <td>You're the only one who can see this cause...</td>\n",
       "      <td>120</td>\n",
       "    </tr>\n",
       "    <tr>\n",
       "      <th>23</th>\n",
       "      <td>24</td>\n",
       "      <td>0</td>\n",
       "      <td>&amp;lt;---Sad level is 3. I was writing a mass...</td>\n",
       "      <td>137</td>\n",
       "    </tr>\n",
       "    <tr>\n",
       "      <th>24</th>\n",
       "      <td>25</td>\n",
       "      <td>0</td>\n",
       "      <td>...  Headed to Hospitol : Had to pull out o...</td>\n",
       "      <td>134</td>\n",
       "    </tr>\n",
       "    <tr>\n",
       "      <th>25</th>\n",
       "      <td>26</td>\n",
       "      <td>0</td>\n",
       "      <td>BoRinG   ): whats wrong with him??     Plea...</td>\n",
       "      <td>70</td>\n",
       "    </tr>\n",
       "    <tr>\n",
       "      <th>26</th>\n",
       "      <td>27</td>\n",
       "      <td>0</td>\n",
       "      <td>can't be bothered. i wish i could spend the...</td>\n",
       "      <td>106</td>\n",
       "    </tr>\n",
       "    <tr>\n",
       "      <th>27</th>\n",
       "      <td>28</td>\n",
       "      <td>0</td>\n",
       "      <td>Feeeling like shit right now. I really want...</td>\n",
       "      <td>125</td>\n",
       "    </tr>\n",
       "    <tr>\n",
       "      <th>28</th>\n",
       "      <td>29</td>\n",
       "      <td>1</td>\n",
       "      <td>goodbye exams, HELLO ALCOHOL TONIGHT</td>\n",
       "      <td>40</td>\n",
       "    </tr>\n",
       "    <tr>\n",
       "      <th>29</th>\n",
       "      <td>30</td>\n",
       "      <td>0</td>\n",
       "      <td>I didn't realize it was THAT deep. Geez giv...</td>\n",
       "      <td>73</td>\n",
       "    </tr>\n",
       "    <tr>\n",
       "      <th>...</th>\n",
       "      <td>...</td>\n",
       "      <td>...</td>\n",
       "      <td>...</td>\n",
       "      <td>...</td>\n",
       "    </tr>\n",
       "    <tr>\n",
       "      <th>99959</th>\n",
       "      <td>99971</td>\n",
       "      <td>0</td>\n",
       "      <td>@CT415 @UCLA_Bruin  it made me sad too!  that ...</td>\n",
       "      <td>67</td>\n",
       "    </tr>\n",
       "    <tr>\n",
       "      <th>99960</th>\n",
       "      <td>99972</td>\n",
       "      <td>1</td>\n",
       "      <td>@CT415 I agree. I think they all have that fet...</td>\n",
       "      <td>55</td>\n",
       "    </tr>\n",
       "    <tr>\n",
       "      <th>99961</th>\n",
       "      <td>99973</td>\n",
       "      <td>0</td>\n",
       "      <td>@ct415 I hope it's not too serious of an injur...</td>\n",
       "      <td>94</td>\n",
       "    </tr>\n",
       "    <tr>\n",
       "      <th>99962</th>\n",
       "      <td>99974</td>\n",
       "      <td>0</td>\n",
       "      <td>@ctabita if it's any consolation, this weekend...</td>\n",
       "      <td>87</td>\n",
       "    </tr>\n",
       "    <tr>\n",
       "      <th>99963</th>\n",
       "      <td>99975</td>\n",
       "      <td>1</td>\n",
       "      <td>@ctayah got your back, yo!</td>\n",
       "      <td>27</td>\n",
       "    </tr>\n",
       "    <tr>\n",
       "      <th>99964</th>\n",
       "      <td>99976</td>\n",
       "      <td>1</td>\n",
       "      <td>@ctaylor0127 I can't wait to see that movie. E...</td>\n",
       "      <td>51</td>\n",
       "    </tr>\n",
       "    <tr>\n",
       "      <th>99965</th>\n",
       "      <td>99977</td>\n",
       "      <td>1</td>\n",
       "      <td>@ctaylor10127 @smelby I am excited and a littl...</td>\n",
       "      <td>70</td>\n",
       "    </tr>\n",
       "    <tr>\n",
       "      <th>99966</th>\n",
       "      <td>99978</td>\n",
       "      <td>0</td>\n",
       "      <td>@ctb1221 yeah  sorry.going to a concert that n...</td>\n",
       "      <td>74</td>\n",
       "    </tr>\n",
       "    <tr>\n",
       "      <th>99967</th>\n",
       "      <td>99979</td>\n",
       "      <td>1</td>\n",
       "      <td>@ctcash @buildingateam @diabetescure @chocolat...</td>\n",
       "      <td>130</td>\n",
       "    </tr>\n",
       "    <tr>\n",
       "      <th>99968</th>\n",
       "      <td>99980</td>\n",
       "      <td>1</td>\n",
       "      <td>@ctdesign87 im so glad you went to china town ...</td>\n",
       "      <td>113</td>\n",
       "    </tr>\n",
       "    <tr>\n",
       "      <th>99969</th>\n",
       "      <td>99981</td>\n",
       "      <td>0</td>\n",
       "      <td>@CTerry1985  Sorry</td>\n",
       "      <td>18</td>\n",
       "    </tr>\n",
       "    <tr>\n",
       "      <th>99970</th>\n",
       "      <td>99982</td>\n",
       "      <td>0</td>\n",
       "      <td>@CTerry1985 damn it, dont have sky</td>\n",
       "      <td>35</td>\n",
       "    </tr>\n",
       "    <tr>\n",
       "      <th>99971</th>\n",
       "      <td>99983</td>\n",
       "      <td>0</td>\n",
       "      <td>@CTerry1985 That's the thing; the new raft of ...</td>\n",
       "      <td>94</td>\n",
       "    </tr>\n",
       "    <tr>\n",
       "      <th>99972</th>\n",
       "      <td>99984</td>\n",
       "      <td>1</td>\n",
       "      <td>@cthagod</td>\n",
       "      <td>9</td>\n",
       "    </tr>\n",
       "    <tr>\n",
       "      <th>99973</th>\n",
       "      <td>99985</td>\n",
       "      <td>1</td>\n",
       "      <td>@ctham  #FollowFriday</td>\n",
       "      <td>21</td>\n",
       "    </tr>\n",
       "    <tr>\n",
       "      <th>99974</th>\n",
       "      <td>99986</td>\n",
       "      <td>0</td>\n",
       "      <td>@ctham #awaresg You are not wrong. But from a ...</td>\n",
       "      <td>138</td>\n",
       "    </tr>\n",
       "    <tr>\n",
       "      <th>99975</th>\n",
       "      <td>99987</td>\n",
       "      <td>0</td>\n",
       "      <td>@ctham @mommyfizz cuz you big burly man.  haha...</td>\n",
       "      <td>60</td>\n",
       "    </tr>\n",
       "    <tr>\n",
       "      <th>99976</th>\n",
       "      <td>99988</td>\n",
       "      <td>1</td>\n",
       "      <td>@ctham @Wilsurn Trying to get a wider range of...</td>\n",
       "      <td>115</td>\n",
       "    </tr>\n",
       "    <tr>\n",
       "      <th>99977</th>\n",
       "      <td>99989</td>\n",
       "      <td>1</td>\n",
       "      <td>@ctham Haha I love the passion in your support</td>\n",
       "      <td>47</td>\n",
       "    </tr>\n",
       "    <tr>\n",
       "      <th>99978</th>\n",
       "      <td>99990</td>\n",
       "      <td>1</td>\n",
       "      <td>@cthulhullahoop That sucks...I like living in ...</td>\n",
       "      <td>101</td>\n",
       "    </tr>\n",
       "    <tr>\n",
       "      <th>99979</th>\n",
       "      <td>99991</td>\n",
       "      <td>1</td>\n",
       "      <td>@cunningstunts till i can go home been here ti...</td>\n",
       "      <td>60</td>\n",
       "    </tr>\n",
       "    <tr>\n",
       "      <th>99980</th>\n",
       "      <td>99992</td>\n",
       "      <td>1</td>\n",
       "      <td>@cunningstunts22 afternoon jim hows you  x</td>\n",
       "      <td>42</td>\n",
       "    </tr>\n",
       "    <tr>\n",
       "      <th>99981</th>\n",
       "      <td>99993</td>\n",
       "      <td>0</td>\n",
       "      <td>@cup_a_tea The foot is really bad. Like the wo...</td>\n",
       "      <td>95</td>\n",
       "    </tr>\n",
       "    <tr>\n",
       "      <th>99982</th>\n",
       "      <td>99994</td>\n",
       "      <td>1</td>\n",
       "      <td>@Cup_Of_Katy Have fun doing health &amp;amp; safet...</td>\n",
       "      <td>89</td>\n",
       "    </tr>\n",
       "    <tr>\n",
       "      <th>99983</th>\n",
       "      <td>99995</td>\n",
       "      <td>0</td>\n",
       "      <td>@cupati It took me waaay too long to get your ...</td>\n",
       "      <td>106</td>\n",
       "    </tr>\n",
       "    <tr>\n",
       "      <th>99984</th>\n",
       "      <td>99996</td>\n",
       "      <td>0</td>\n",
       "      <td>@Cupcake  seems like a repeating problem   hop...</td>\n",
       "      <td>78</td>\n",
       "    </tr>\n",
       "    <tr>\n",
       "      <th>99985</th>\n",
       "      <td>99997</td>\n",
       "      <td>1</td>\n",
       "      <td>@cupcake__ arrrr we both replied to each other...</td>\n",
       "      <td>138</td>\n",
       "    </tr>\n",
       "    <tr>\n",
       "      <th>99986</th>\n",
       "      <td>99998</td>\n",
       "      <td>0</td>\n",
       "      <td>@CuPcAkE_2120 ya i thought so</td>\n",
       "      <td>30</td>\n",
       "    </tr>\n",
       "    <tr>\n",
       "      <th>99987</th>\n",
       "      <td>99999</td>\n",
       "      <td>1</td>\n",
       "      <td>@Cupcake_Dollie Yes. Yes. I'm glad you had mor...</td>\n",
       "      <td>61</td>\n",
       "    </tr>\n",
       "    <tr>\n",
       "      <th>99988</th>\n",
       "      <td>100000</td>\n",
       "      <td>1</td>\n",
       "      <td>@cupcake_kayla haha yes you do</td>\n",
       "      <td>31</td>\n",
       "    </tr>\n",
       "  </tbody>\n",
       "</table>\n",
       "<p>99989 rows × 4 columns</p>\n",
       "</div>"
      ],
      "text/plain": [
       "       ItemID  Sentiment                                      SentimentText  \\\n",
       "0           1          0                       is so sad for my APL frie...   \n",
       "1           2          0                     I missed the New Moon trail...   \n",
       "2           3          1                            omg its already 7:30 :O   \n",
       "3           4          0            .. Omgaga. Im sooo  im gunna CRy. I'...   \n",
       "4           5          0           i think mi bf is cheating on me!!!   ...   \n",
       "5           6          0                  or i just worry too much?           \n",
       "6           7          1                 Juuuuuuuuuuuuuuuuussssst Chillin!!   \n",
       "7           8          0         Sunny Again        Work Tomorrow  :-|  ...   \n",
       "8           9          1        handed in my uniform today . i miss you ...   \n",
       "9          10          1           hmmmm.... i wonder how she my number @-)   \n",
       "10         11          0                      I must think about positive..   \n",
       "11         12          1        thanks to all the haters up in my face a...   \n",
       "12         13          0                     this weekend has sucked so far   \n",
       "13         14          0             jb isnt showing in australia any more!   \n",
       "14         15          0                               ok thats it you win.   \n",
       "15         16          0      &lt;-------- This is the way i feel right ...   \n",
       "16         17          0      awhhe man.... I'm completely useless rt no...   \n",
       "17         18          1      Feeling strangely fine. Now I'm gonna go l...   \n",
       "18         19          0       HUGE roll of thunder just now...SO scary!!!!   \n",
       "19         20          0      I just cut my beard off. It's only been gr...   \n",
       "20         21          0                               Very sad about Iran.   \n",
       "21         22          0                                      wompppp wompp   \n",
       "22         23          1      You're the only one who can see this cause...   \n",
       "23         24          0     &lt;---Sad level is 3. I was writing a mass...   \n",
       "24         25          0     ...  Headed to Hospitol : Had to pull out o...   \n",
       "25         26          0     BoRinG   ): whats wrong with him??     Plea...   \n",
       "26         27          0     can't be bothered. i wish i could spend the...   \n",
       "27         28          0     Feeeling like shit right now. I really want...   \n",
       "28         29          1              goodbye exams, HELLO ALCOHOL TONIGHT    \n",
       "29         30          0     I didn't realize it was THAT deep. Geez giv...   \n",
       "...       ...        ...                                                ...   \n",
       "99959   99971          0  @CT415 @UCLA_Bruin  it made me sad too!  that ...   \n",
       "99960   99972          1  @CT415 I agree. I think they all have that fet...   \n",
       "99961   99973          0  @ct415 I hope it's not too serious of an injur...   \n",
       "99962   99974          0  @ctabita if it's any consolation, this weekend...   \n",
       "99963   99975          1                        @ctayah got your back, yo!    \n",
       "99964   99976          1  @ctaylor0127 I can't wait to see that movie. E...   \n",
       "99965   99977          1  @ctaylor10127 @smelby I am excited and a littl...   \n",
       "99966   99978          0  @ctb1221 yeah  sorry.going to a concert that n...   \n",
       "99967   99979          1  @ctcash @buildingateam @diabetescure @chocolat...   \n",
       "99968   99980          1  @ctdesign87 im so glad you went to china town ...   \n",
       "99969   99981          0                                 @CTerry1985  Sorry   \n",
       "99970   99982          0                @CTerry1985 damn it, dont have sky    \n",
       "99971   99983          0  @CTerry1985 That's the thing; the new raft of ...   \n",
       "99972   99984          1                                          @cthagod    \n",
       "99973   99985          1                              @ctham  #FollowFriday   \n",
       "99974   99986          0  @ctham #awaresg You are not wrong. But from a ...   \n",
       "99975   99987          0  @ctham @mommyfizz cuz you big burly man.  haha...   \n",
       "99976   99988          1  @ctham @Wilsurn Trying to get a wider range of...   \n",
       "99977   99989          1    @ctham Haha I love the passion in your support    \n",
       "99978   99990          1  @cthulhullahoop That sucks...I like living in ...   \n",
       "99979   99991          1  @cunningstunts till i can go home been here ti...   \n",
       "99980   99992          1         @cunningstunts22 afternoon jim hows you  x   \n",
       "99981   99993          0  @cup_a_tea The foot is really bad. Like the wo...   \n",
       "99982   99994          1  @Cup_Of_Katy Have fun doing health &amp; safet...   \n",
       "99983   99995          0  @cupati It took me waaay too long to get your ...   \n",
       "99984   99996          0  @Cupcake  seems like a repeating problem   hop...   \n",
       "99985   99997          1  @cupcake__ arrrr we both replied to each other...   \n",
       "99986   99998          0                     @CuPcAkE_2120 ya i thought so    \n",
       "99987   99999          1  @Cupcake_Dollie Yes. Yes. I'm glad you had mor...   \n",
       "99988  100000          1                    @cupcake_kayla haha yes you do    \n",
       "\n",
       "       length  \n",
       "0          61  \n",
       "1          51  \n",
       "2          37  \n",
       "3         132  \n",
       "4          53  \n",
       "5          42  \n",
       "6          41  \n",
       "7          61  \n",
       "8          53  \n",
       "9          46  \n",
       "10         35  \n",
       "11         61  \n",
       "12         36  \n",
       "13         43  \n",
       "14         25  \n",
       "15         52  \n",
       "16        101  \n",
       "17         82  \n",
       "18         48  \n",
       "19        136  \n",
       "20         24  \n",
       "21         17  \n",
       "22        120  \n",
       "23        137  \n",
       "24        134  \n",
       "25         70  \n",
       "26        106  \n",
       "27        125  \n",
       "28         40  \n",
       "29         73  \n",
       "...       ...  \n",
       "99959      67  \n",
       "99960      55  \n",
       "99961      94  \n",
       "99962      87  \n",
       "99963      27  \n",
       "99964      51  \n",
       "99965      70  \n",
       "99966      74  \n",
       "99967     130  \n",
       "99968     113  \n",
       "99969      18  \n",
       "99970      35  \n",
       "99971      94  \n",
       "99972       9  \n",
       "99973      21  \n",
       "99974     138  \n",
       "99975      60  \n",
       "99976     115  \n",
       "99977      47  \n",
       "99978     101  \n",
       "99979      60  \n",
       "99980      42  \n",
       "99981      95  \n",
       "99982      89  \n",
       "99983     106  \n",
       "99984      78  \n",
       "99985     138  \n",
       "99986      30  \n",
       "99987      61  \n",
       "99988      31  \n",
       "\n",
       "[99989 rows x 4 columns]"
      ]
     },
     "execution_count": 6,
     "metadata": {},
     "output_type": "execute_result"
    }
   ],
   "source": [
    "messages['length'] = messages['SentimentText'].map(lambda text: len(text))\n",
    "messages.head()\n",
    "\n",
    "#for word in messages.SentimentText[:]:\n",
    "       #print(word)\n",
    " #   if word.startswith('@'):\n",
    "#     messages.length.replace(word, '')\n",
    "messages"
   ]
  },
  {
   "cell_type": "markdown",
   "metadata": {},
   "source": [
    "### Visualizamos con un histograma la logitud de los tweets"
   ]
  },
  {
   "cell_type": "code",
   "execution_count": 5,
   "metadata": {},
   "outputs": [
    {
     "data": {
      "text/plain": [
       "<matplotlib.axes._subplots.AxesSubplot at 0x1326ae90>"
      ]
     },
     "execution_count": 5,
     "metadata": {},
     "output_type": "execute_result"
    },
    {
     "data": {
      "image/png": "[encoded data removed]",
      "text/plain": [
       "<matplotlib.figure.Figure at 0x1326aa30>"
      ]
     },
     "metadata": {},
     "output_type": "display_data"
    }
   ],
   "source": [
    "messages.length.plot(bins = 20, kind = 'hist')"
   ]
  },
  {
   "cell_type": "markdown",
   "metadata": {},
   "source": [
    "### Describiremos el atributo SentimentText"
   ]
  },
  {
   "cell_type": "code",
   "execution_count": 6,
   "metadata": {},
   "outputs": [
    {
     "data": {
      "text/plain": [
       "count    99989.000000\n",
       "mean        77.264309\n",
       "std         36.382639\n",
       "min          6.000000\n",
       "25%         47.000000\n",
       "50%         73.000000\n",
       "75%        108.000000\n",
       "max        949.000000\n",
       "Name: length, dtype: float64"
      ]
     },
     "execution_count": 6,
     "metadata": {},
     "output_type": "execute_result"
    }
   ],
   "source": [
    "messages.length.describe()"
   ]
  },
  {
   "cell_type": "markdown",
   "metadata": {},
   "source": [
    "### Cual es el mensaje mas largo"
   ]
  },
  {
   "cell_type": "code",
   "execution_count": 7,
   "metadata": {},
   "outputs": [
    {
     "data": {
      "text/plain": [
       "[\" brokeback mountain was terrible.\\n8838,0,Sentiment140,# @Catherine42 I wouldn't mind but I only had 1/2 a portion &amp; then left 1/2 the cream  just fruit for me then until my hols  x\\n8839,1,Sentiment140,# @DeliciousLunch ... dark chocolate cookies? oh you tease! I'm writing to day n dipping into twitter for company \\n8840,1,Sentiment140,# followfriday @mstuyvenberg @feb_unsw @hazelmail @beckescreet - all almost as cool as he-man and she-ra \\n8841,1,Sentiment140,# followfriday @presentsqueen because she talks sense \\n8842,1,Sentiment140,# New York is the most amazing city i've ever been to \\n8843,0,Sentiment140,# number times I bottomed out just in our driveway = 4... a 6.5 hour trip to mass.. I'm scared \\n8844,0,Sentiment140,# of NYC celebrity street vendors &gt; # of POA celebrities  http://streetvendor.org/media/pdfs/Side2.pdf\\n8845,1,Sentiment140,###### yay ##### thanks @matclayton ##### \\n8846,0,Sentiment140,#$%#$^#%@ I HATE THE DENTIST\"]"
      ]
     },
     "execution_count": 7,
     "metadata": {},
     "output_type": "execute_result"
    }
   ],
   "source": [
    "list(messages.SentimentText[messages.length > 900])"
   ]
  },
  {
   "cell_type": "markdown",
   "metadata": {},
   "source": [
    "### Diferencias entre el mensaje de sentimiento 0 y 1"
   ]
  },
  {
   "cell_type": "code",
   "execution_count": 8,
   "metadata": {},
   "outputs": [
    {
     "data": {
      "text/plain": [
       "array([<matplotlib.axes._subplots.AxesSubplot object at 0x1326AB50>,\n",
       "       <matplotlib.axes._subplots.AxesSubplot object at 0x131EC350>], dtype=object)"
      ]
     },
     "execution_count": 8,
     "metadata": {},
     "output_type": "execute_result"
    },
    {
     "data": {
      "image/png": "[encoded data removed]",
      "text/plain": [
       "<matplotlib.figure.Figure at 0x13024730>"
      ]
     },
     "metadata": {},
     "output_type": "display_data"
    }
   ],
   "source": [
    "messages.hist(column = 'length', by = 'Sentiment', bins = 50)"
   ]
  },
  {
   "cell_type": "markdown",
   "metadata": {},
   "source": [
    "## PASO 02: Preprocesamiento de datos, en esta seccion manipularemos los mensajes en brutos para convertirlos en vectores de numeros"
   ]
  },
  {
   "cell_type": "markdown",
   "metadata": {},
   "source": [
    "### Creamos una funcion para poder separar las palabras en un mensaje "
   ]
  },
  {
   "cell_type": "code",
   "execution_count": 7,
   "metadata": {},
   "outputs": [],
   "source": [
    "def split_into_tokens(message):\n",
    "    return TextBlob(message).words"
   ]
  },
  {
   "cell_type": "markdown",
   "metadata": {},
   "source": [
    "### Viendo los resultados"
   ]
  },
  {
   "cell_type": "code",
   "execution_count": 8,
   "metadata": {},
   "outputs": [
    {
     "data": {
      "text/plain": [
       "0                  [is, so, sad, for, my, APL, friend]\n",
       "1                 [I, missed, the, New, Moon, trailer]\n",
       "2                         [omg, its, already, 7:30, O]\n",
       "3    [Omgaga, Im, sooo, im, gunna, CRy, I, 've, bee...\n",
       "4        [i, think, mi, bf, is, cheating, on, me, T_T]\n",
       "Name: SentimentText, dtype: object"
      ]
     },
     "execution_count": 8,
     "metadata": {},
     "output_type": "execute_result"
    }
   ],
   "source": [
    "messages.SentimentText.head().apply(split_into_tokens)"
   ]
  },
  {
   "cell_type": "markdown",
   "metadata": {},
   "source": [
    "### Con TextBlob detectamos las etiquetas POS "
   ]
  },
  {
   "cell_type": "code",
   "execution_count": 9,
   "metadata": {},
   "outputs": [
    {
     "data": {
      "text/plain": [
       "[('Hello', 'NNP'),\n",
       " ('world', 'NN'),\n",
       " ('how', 'WRB'),\n",
       " ('is', 'VBZ'),\n",
       " ('it', 'PRP'),\n",
       " ('going', 'VBG')]"
      ]
     },
     "execution_count": 9,
     "metadata": {},
     "output_type": "execute_result"
    }
   ],
   "source": [
    "TextBlob(\"Hello world, how is it going?\").tags"
   ]
  },
  {
   "cell_type": "markdown",
   "metadata": {},
   "source": [
    "### Normalizamos las palabras mediante la forma lematizada"
   ]
  },
  {
   "cell_type": "code",
   "execution_count": 10,
   "metadata": {},
   "outputs": [],
   "source": [
    "def split_into_lemmas(message):\n",
    "    message = message.lower()\n",
    "    words = TextBlob(message).words\n",
    "    return [word.lemma for word in words]"
   ]
  },
  {
   "cell_type": "markdown",
   "metadata": {},
   "source": [
    "### Viendo los resultados"
   ]
  },
  {
   "cell_type": "code",
   "execution_count": 11,
   "metadata": {},
   "outputs": [
    {
     "data": {
      "text/plain": [
       "0                  [is, so, sad, for, my, apl, friend]\n",
       "1                 [i, missed, the, new, moon, trailer]\n",
       "2                          [omg, it, already, 7:30, o]\n",
       "3    [omgaga, im, sooo, im, gunna, cry, i, 've, bee...\n",
       "4        [i, think, mi, bf, is, cheating, on, me, t_t]\n",
       "Name: SentimentText, dtype: object"
      ]
     },
     "execution_count": 11,
     "metadata": {},
     "output_type": "execute_result"
    }
   ],
   "source": [
    "messages.SentimentText.head().apply(split_into_lemmas)"
   ]
  },
  {
   "cell_type": "markdown",
   "metadata": {},
   "source": [
    "## PASO 03: Datos a Vectores"
   ]
  },
  {
   "cell_type": "markdown",
   "metadata": {},
   "source": [
    "### Ahora convertiremos cada mensaje, representado como una lista de tokens (lemas) arriba, en un vector que los modelos de aprendizaje automático pueden entender"
   ]
  },
  {
   "cell_type": "markdown",
   "metadata": {},
   "source": [
    "### Hacer eso requiere esencialmente tres pasos:"
   ]
  },
  {
   "cell_type": "markdown",
   "metadata": {},
   "source": [
    "### 1. Contar cuantas veces ocurre una palabra en un mensaje."
   ]
  },
  {
   "cell_type": "markdown",
   "metadata": {},
   "source": [
    "### 2. Ponderando los conteos para que los tokens frecuentes obtengan un menor peso."
   ]
  },
  {
   "cell_type": "markdown",
   "metadata": {},
   "source": [
    "### 3. Normalizar los vectores a la longitud de la unidad, para abstraer de la longitud del texto original."
   ]
  },
  {
   "cell_type": "markdown",
   "metadata": {},
   "source": [
    "### bow_transformer nos permite contabilizar la cantidad de veces que una palabra se repite"
   ]
  },
  {
   "cell_type": "code",
   "execution_count": 14,
   "metadata": {},
   "outputs": [],
   "source": [
    "bow_transformer = CountVectorizer(analyzer=split_into_lemmas).fit(messages['SentimentText'])"
   ]
  },
  {
   "cell_type": "markdown",
   "metadata": {},
   "source": [
    "### contabilizamos la cantidad de palabras existen en los tweets"
   ]
  },
  {
   "cell_type": "code",
   "execution_count": 15,
   "metadata": {},
   "outputs": [
    {
     "data": {
      "text/plain": [
       "108478"
      ]
     },
     "execution_count": 15,
     "metadata": {},
     "output_type": "execute_result"
    }
   ],
   "source": [
    "len(bow_transformer.vocabulary_)"
   ]
  },
  {
   "cell_type": "markdown",
   "metadata": {},
   "source": [
    "### En esta seccion usaremos sklearn, una potente biblioteca de python para enseñar a aprender maquinas. Contiene una multitud de varios metodos y opciones"
   ]
  },
  {
   "cell_type": "markdown",
   "metadata": {},
   "source": [
    "### Tomemos un mensaje de texto y obtengamos su conteo de bolsa de palabras como un vector, poniendo en uso nuestro nuevo bow_transformer"
   ]
  },
  {
   "cell_type": "code",
   "execution_count": 17,
   "metadata": {},
   "outputs": [
    {
     "name": "stdout",
     "output_type": "stream",
     "text": [
      "          .. Omgaga. Im sooo  im gunna CRy. I've been at this dentist since 11.. I was suposed 2 just get a crown put on (30mins)...\n"
     ]
    }
   ],
   "source": [
    "message4 = messages['SentimentText'][3]\n",
    "print(message4)"
   ]
  },
  {
   "cell_type": "code",
   "execution_count": 18,
   "metadata": {},
   "outputs": [
    {
     "name": "stdout",
     "output_type": "stream",
     "text": [
      "  (0, 579)\t1\n",
      "  (0, 984)\t1\n",
      "  (0, 1695)\t1\n",
      "  (0, 2421)\t1\n",
      "  (0, 4137)\t1\n",
      "  (0, 23809)\t1\n",
      "  (0, 30256)\t1\n",
      "  (0, 56715)\t1\n",
      "  (0, 56858)\t1\n",
      "  (0, 58655)\t1\n",
      "  (0, 65532)\t1\n",
      "  (0, 66937)\t1\n",
      "  (0, 69679)\t2\n",
      "  (0, 70152)\t2\n",
      "  (0, 72904)\t1\n",
      "  (0, 83016)\t1\n",
      "  (0, 83065)\t1\n",
      "  (0, 87227)\t1\n",
      "  (0, 92683)\t1\n",
      "  (0, 93791)\t1\n",
      "  (0, 95816)\t1\n",
      "  (0, 97756)\t1\n",
      "  (0, 103429)\t1\n"
     ]
    },
    {
     "data": {
      "text/plain": [
       "(1, 108478)"
      ]
     },
     "execution_count": 18,
     "metadata": {},
     "output_type": "execute_result"
    }
   ],
   "source": [
    "bow4 = bow_transformer.transform([message4])\n",
    "print(bow4)\n",
    "bow4.shape"
   ]
  },
  {
   "cell_type": "markdown",
   "metadata": {},
   "source": [
    "### Comprobando cual de estas palabras aparecen 2 veces"
   ]
  },
  {
   "cell_type": "code",
   "execution_count": 19,
   "metadata": {},
   "outputs": [
    {
     "name": "stdout",
     "output_type": "stream",
     "text": [
      "i\n",
      "im\n"
     ]
    }
   ],
   "source": [
    "print(bow_transformer.get_feature_names()[69679])\n",
    "print(bow_transformer.get_feature_names()[70152])"
   ]
  },
  {
   "cell_type": "markdown",
   "metadata": {},
   "source": [
    "### Realizamos el conteo de bag-of-words en el SMS message completo"
   ]
  },
  {
   "cell_type": "code",
   "execution_count": 21,
   "metadata": {},
   "outputs": [],
   "source": [
    "messages_bow = bow_transformer.transform(messages['SentimentText'])"
   ]
  },
  {
   "cell_type": "markdown",
   "metadata": {},
   "source": [
    "### Veamos los resultados"
   ]
  },
  {
   "cell_type": "code",
   "execution_count": 22,
   "metadata": {},
   "outputs": [
    {
     "name": "stdout",
     "output_type": "stream",
     "text": [
      "  (0, 20081)\t1\n",
      "  (0, 64138)\t1\n",
      "  (0, 64576)\t1\n",
      "  (0, 71168)\t1\n",
      "  (0, 80351)\t1\n",
      "  (0, 90307)\t1\n",
      "  (0, 93494)\t1\n",
      "  (1, 69679)\t1\n",
      "  (1, 79004)\t1\n",
      "  (1, 79549)\t1\n",
      "  (1, 81297)\t1\n",
      "  (1, 97367)\t1\n",
      "  (1, 99366)\t1\n",
      "  (2, 3657)\t1\n",
      "  (2, 13050)\t1\n",
      "  (2, 71345)\t1\n",
      "  (2, 82467)\t1\n",
      "  (2, 83013)\t1\n",
      "  (3, 579)\t1\n",
      "  (3, 984)\t1\n",
      "  (3, 1695)\t1\n",
      "  (3, 2421)\t1\n",
      "  (3, 4137)\t1\n",
      "  (3, 23809)\t1\n",
      "  (3, 30256)\t1\n",
      "  :\t:\n",
      "  (99985, 100119)\t1\n",
      "  (99985, 103907)\t1\n",
      "  (99985, 104452)\t1\n",
      "  (99985, 106798)\t1\n",
      "  (99986, 57330)\t1\n",
      "  (99986, 69679)\t1\n",
      "  (99986, 93494)\t1\n",
      "  (99986, 97855)\t1\n",
      "  (99986, 106209)\t1\n",
      "  (99987, 343)\t1\n",
      "  (99987, 57331)\t1\n",
      "  (99987, 64823)\t1\n",
      "  (99987, 65850)\t1\n",
      "  (99987, 67173)\t1\n",
      "  (99987, 69679)\t1\n",
      "  (99987, 77909)\t1\n",
      "  (99987, 79593)\t1\n",
      "  (99987, 104949)\t1\n",
      "  (99987, 106569)\t2\n",
      "  (99987, 106798)\t1\n",
      "  (99988, 57332)\t1\n",
      "  (99988, 59664)\t1\n",
      "  (99988, 67202)\t1\n",
      "  (99988, 106569)\t1\n",
      "  (99988, 106798)\t1\n"
     ]
    }
   ],
   "source": [
    "print(messages_bow)"
   ]
  },
  {
   "cell_type": "markdown",
   "metadata": {},
   "source": [
    "### Realizamos la ponderacion y normalizacion con TF-IDF"
   ]
  },
  {
   "cell_type": "code",
   "execution_count": 19,
   "metadata": {},
   "outputs": [
    {
     "name": "stdout",
     "output_type": "stream",
     "text": [
      "  (0, 103429)\t0.108606535463\n",
      "  (0, 97756)\t0.120621656382\n",
      "  (0, 95816)\t0.349690568253\n",
      "  (0, 93791)\t0.204896345735\n",
      "  (0, 92683)\t0.182563091117\n",
      "  (0, 87227)\t0.182407241122\n",
      "  (0, 83065)\t0.100648950707\n",
      "  (0, 83016)\t0.349690568253\n",
      "  (0, 72904)\t0.109713232855\n",
      "  (0, 70152)\t0.274665208952\n",
      "  (0, 69679)\t0.107239667468\n",
      "  (0, 66937)\t0.251638864994\n",
      "  (0, 65532)\t0.115990512718\n",
      "  (0, 58655)\t0.263366991484\n",
      "  (0, 56858)\t0.191493955221\n",
      "  (0, 56715)\t0.294312447848\n",
      "  (0, 30256)\t0.143113117149\n",
      "  (0, 23809)\t0.117807113704\n",
      "  (0, 4137)\t0.0756116189308\n",
      "  (0, 2421)\t0.317187623043\n",
      "  (0, 1695)\t0.148902454488\n",
      "  (0, 984)\t0.240185862625\n",
      "  (0, 579)\t0.146360201389\n"
     ]
    }
   ],
   "source": [
    "tfidf_transformer = TfidfTransformer().fit(messages_bow)\n",
    "tfidf4 = tfidf_transformer.transform(bow4)\n",
    "print(tfidf4)"
   ]
  },
  {
   "cell_type": "markdown",
   "metadata": {},
   "source": [
    "### ¿Cuál es la IDF (frecuencia inversa del documento) de la palabra \"u\"? ¿De palabra \"university\"?"
   ]
  },
  {
   "cell_type": "code",
   "execution_count": 20,
   "metadata": {},
   "outputs": [
    {
     "name": "stdout",
     "output_type": "stream",
     "text": [
      "1.81237139823\n",
      "4.64189586321\n"
     ]
    }
   ],
   "source": [
    "print(tfidf_transformer.idf_[bow_transformer.vocabulary_['i']])\n",
    "print(tfidf_transformer.idf_[bow_transformer.vocabulary_['im']])"
   ]
  },
  {
   "cell_type": "markdown",
   "metadata": {},
   "source": [
    "### Para transformar todo el corpus de bolsa de palabras en corpus TF-IDF a la vez:"
   ]
  },
  {
   "cell_type": "code",
   "execution_count": 21,
   "metadata": {},
   "outputs": [
    {
     "name": "stdout",
     "output_type": "stream",
     "text": [
      "(99989, 108478)\n",
      "  (0, 93494)\t0.224468668929\n",
      "  (0, 90307)\t0.336021324845\n",
      "  (0, 80351)\t0.199957489639\n",
      "  (0, 71168)\t0.20463396622\n",
      "  (0, 64576)\t0.35106133757\n",
      "  (0, 64138)\t0.203979611638\n",
      "  (0, 20081)\t0.768110463035\n",
      "  (1, 99366)\t0.585257952826\n",
      "  (1, 97367)\t0.168505861825\n",
      "  (1, 81297)\t0.353770101447\n",
      "  (1, 79549)\t0.558622351044\n",
      "  (1, 79004)\t0.419148131389\n",
      "  (1, 69679)\t0.127206648309\n",
      "  (2, 83013)\t0.400920209814\n",
      "  (2, 82467)\t0.424982262462\n",
      "  (2, 71345)\t0.17322387011\n",
      "  (2, 13050)\t0.385742467417\n",
      "  (2, 3657)\t0.692711557296\n",
      "  (3, 103429)\t0.108606535463\n",
      "  (3, 97756)\t0.120621656382\n",
      "  (3, 95816)\t0.349690568253\n",
      "  (3, 93791)\t0.204896345735\n",
      "  (3, 92683)\t0.182563091117\n",
      "  (3, 87227)\t0.182407241122\n",
      "  (3, 83065)\t0.100648950707\n",
      "  :\t:\n",
      "  (99985, 37057)\t0.195852462131\n",
      "  (99985, 23809)\t0.123187820806\n",
      "  (99985, 21623)\t0.365662290714\n",
      "  (99985, 339)\t0.13859089289\n",
      "  (99986, 106209)\t0.384405373855\n",
      "  (99986, 97855)\t0.380139645724\n",
      "  (99986, 93494)\t0.233461903851\n",
      "  (99986, 69679)\t0.122497018039\n",
      "  (99986, 57330)\t0.798884458681\n",
      "  (99987, 106798)\t0.122046308505\n",
      "  (99987, 106569)\t0.505213783964\n",
      "  (99987, 104949)\t0.198507703955\n",
      "  (99987, 79593)\t0.245704098603\n",
      "  (99987, 77909)\t0.164488875138\n",
      "  (99987, 69679)\t0.0916395944106\n",
      "  (99987, 67173)\t0.236497302022\n",
      "  (99987, 65850)\t0.287682247573\n",
      "  (99987, 64823)\t0.258336071741\n",
      "  (99987, 57331)\t0.597642693238\n",
      "  (99987, 343)\t0.178961305842\n",
      "  (99988, 106798)\t0.168841881459\n",
      "  (99988, 106569)\t0.349462621476\n",
      "  (99988, 67202)\t0.321239699998\n",
      "  (99988, 59664)\t0.250171057561\n",
      "  (99988, 57332)\t0.826793681858\n"
     ]
    }
   ],
   "source": [
    "messages_tfidf = tfidf_transformer.transform(messages_bow)\n",
    "print(messages_tfidf.shape)\n",
    "print(messages_tfidf)"
   ]
  },
  {
   "cell_type": "markdown",
   "metadata": {},
   "source": [
    "## PASO 04: Entrenando el modelo y detectando el SPAM"
   ]
  },
  {
   "cell_type": "markdown",
   "metadata": {},
   "source": [
    "### Escogemos el clasificador Naive Bayes y determinamos el tiempo en que el clasificador resolvera una clase Sentiment"
   ]
  },
  {
   "cell_type": "code",
   "execution_count": 22,
   "metadata": {},
   "outputs": [
    {
     "name": "stdout",
     "output_type": "stream",
     "text": [
      "Wall time: 138 ms\n"
     ]
    }
   ],
   "source": [
    "%time spam_detector = MultinomialNB().fit(messages_tfidf, messages['Sentiment'])"
   ]
  },
  {
   "cell_type": "markdown",
   "metadata": {},
   "source": [
    "### Clasificaremos un mensaje aleatoriamente"
   ]
  },
  {
   "cell_type": "code",
   "execution_count": 23,
   "metadata": {},
   "outputs": [
    {
     "name": "stdout",
     "output_type": "stream",
     "text": [
      "predicted: 0\n",
      "expected: 0\n"
     ]
    }
   ],
   "source": [
    "print('predicted:', spam_detector.predict(tfidf4)[0])\n",
    "print('expected:', messages.Sentiment[3])"
   ]
  },
  {
   "cell_type": "markdown",
   "metadata": {},
   "source": [
    "### Probamos realizando todas las predicciones"
   ]
  },
  {
   "cell_type": "code",
   "execution_count": 24,
   "metadata": {},
   "outputs": [
    {
     "name": "stdout",
     "output_type": "stream",
     "text": [
      "[0 1 0 ..., 0 1 1]\n"
     ]
    }
   ],
   "source": [
    "all_predictions = spam_detector.predict(messages_tfidf)\n",
    "print(all_predictions)"
   ]
  },
  {
   "cell_type": "markdown",
   "metadata": {},
   "source": [
    "### Cuantos mensajes se lograron clasificar de manera correcta"
   ]
  },
  {
   "cell_type": "code",
   "execution_count": 25,
   "metadata": {},
   "outputs": [
    {
     "name": "stdout",
     "output_type": "stream",
     "text": [
      "accuracy 0.870445749032\n",
      "confusion matrix\n",
      " [[33236 10296]\n",
      " [ 2658 53799]]\n",
      "(row=expected, col=predicted)\n"
     ]
    }
   ],
   "source": [
    "print('accuracy', accuracy_score(messages['Sentiment'], all_predictions))\n",
    "print('confusion matrix\\n', confusion_matrix(messages['Sentiment'], all_predictions))\n",
    "print('(row=expected, col=predicted)')"
   ]
  },
  {
   "cell_type": "markdown",
   "metadata": {},
   "source": [
    "### De forma grafica"
   ]
  },
  {
   "cell_type": "code",
   "execution_count": 26,
   "metadata": {},
   "outputs": [
    {
     "data": {
      "text/plain": [
       "Text(0.5,0,'predicted label')"
      ]
     },
     "execution_count": 26,
     "metadata": {},
     "output_type": "execute_result"
    },
    {
     "data": {
      "image/png": "[encoded data removed]",
      "text/plain": [
       "<matplotlib.figure.Figure at 0x188b3a10>"
      ]
     },
     "metadata": {},
     "output_type": "display_data"
    }
   ],
   "source": [
    "plt.matshow(confusion_matrix(messages['Sentiment'], all_predictions), cmap=plt.cm.binary, interpolation='nearest')\n",
    "plt.title('confusion matrix')\n",
    "plt.colorbar()\n",
    "plt.ylabel('expected label')\n",
    "plt.xlabel('predicted label')"
   ]
  },
  {
   "cell_type": "markdown",
   "metadata": {},
   "source": [
    "### A partir de esta matriz de confusión, podemos calcular la precisión y la recuperación, o su combinación (media armónica)"
   ]
  },
  {
   "cell_type": "code",
   "execution_count": 27,
   "metadata": {},
   "outputs": [
    {
     "name": "stdout",
     "output_type": "stream",
     "text": [
      "             precision    recall  f1-score   support\n",
      "\n",
      "          0       0.93      0.76      0.84     43532\n",
      "          1       0.84      0.95      0.89     56457\n",
      "\n",
      "avg / total       0.88      0.87      0.87     99989\n",
      "\n"
     ]
    }
   ],
   "source": [
    "print(classification_report(messages['Sentiment'], all_predictions))"
   ]
  },
  {
   "cell_type": "markdown",
   "metadata": {},
   "source": [
    "### PASO 05: Corriendo el experimento"
   ]
  },
  {
   "cell_type": "code",
   "execution_count": 52,
   "metadata": {},
   "outputs": [
    {
     "name": "stdout",
     "output_type": "stream",
     "text": [
      "       ItemID                                      SentimentText\n",
      "99989  100001  @cupcake_kitty I love how you're so live on tw...\n",
      "99990  100002  @cupcake_nyc  boooo hahah ugh this weekend is ...\n",
      "99991  100003  @cupcake_nyc sounds good I have some things to...\n",
      "99992  100004  @cupcake_nyc Why does Yahoo! always only take ...\n",
      "99993  100005     @cupcake_rachel ha ha, you do amuse me Rach  x\n",
      "99994  100006  @Cupcake1012 You're welcome~ The Gokey Gang wi...\n",
      "99995  100007  @cupcake79 i'm just coming straight home, and ...\n",
      "99996  100008  @cupcake79 Should  but won't. I'm such a masoc...\n",
      "99997  100009  @cupcakebrii good luck. i wanted to apply at b...\n",
      "99998  100010  @cupcakecanadian - a cupcake would totally hit...\n",
      "99999  100011  @cupcakecartel69 what a small world  yummy cup...\n"
     ]
    }
   ],
   "source": [
    "msgs = pd.read_csv('test.csv', encoding = \"ISO-8859-1\")\n",
    "msgs = msgs[99989:100000]\n",
    "print(msgs)"
   ]
  },
  {
   "cell_type": "code",
   "execution_count": 49,
   "metadata": {},
   "outputs": [
    {
     "name": "stdout",
     "output_type": "stream",
     "text": [
      "[1 0 0 0 1 1 0 0 0 1 1]\n"
     ]
    }
   ],
   "source": [
    "msgs_bow = bow_transformer.transform(msgs['SentimentText'])\n",
    "tfidf_transformer = TfidfTransformer().fit(msgs_bow)\n",
    "msgs_tfidf = tfidf_transformer.transform(msgs_bow)\n",
    "all_predictions_msgs = spam_detector.predict(msgs_tfidf)\n",
    "print(all_predictions_msgs)"
   ]
  },
  {
   "cell_type": "code",
   "execution_count": 32,
   "metadata": {},
   "outputs": [
    {
     "data": {
      "text/html": [
       "<div>\n",
       "<style scoped>\n",
       "    .dataframe tbody tr th:only-of-type {\n",
       "        vertical-align: middle;\n",
       "    }\n",
       "\n",
       "    .dataframe tbody tr th {\n",
       "        vertical-align: top;\n",
       "    }\n",
       "\n",
       "    .dataframe thead th {\n",
       "        text-align: right;\n",
       "    }\n",
       "</style>\n",
       "<table border=\"1\" class=\"dataframe\">\n",
       "  <thead>\n",
       "    <tr style=\"text-align: right;\">\n",
       "      <th></th>\n",
       "      <th>ItemID</th>\n",
       "      <th>Sentiment</th>\n",
       "      <th>SentimentText</th>\n",
       "    </tr>\n",
       "  </thead>\n",
       "  <tbody>\n",
       "    <tr>\n",
       "      <th>0</th>\n",
       "      <td>1</td>\n",
       "      <td>0</td>\n",
       "      <td>is so sad for my APL frie...</td>\n",
       "    </tr>\n",
       "    <tr>\n",
       "      <th>1</th>\n",
       "      <td>2</td>\n",
       "      <td>0</td>\n",
       "      <td>I missed the New Moon trail...</td>\n",
       "    </tr>\n",
       "    <tr>\n",
       "      <th>2</th>\n",
       "      <td>3</td>\n",
       "      <td>1</td>\n",
       "      <td>omg its already 7:30 :O</td>\n",
       "    </tr>\n",
       "    <tr>\n",
       "      <th>3</th>\n",
       "      <td>4</td>\n",
       "      <td>0</td>\n",
       "      <td>.. Omgaga. Im sooo  im gunna CRy. I'...</td>\n",
       "    </tr>\n",
       "    <tr>\n",
       "      <th>4</th>\n",
       "      <td>5</td>\n",
       "      <td>0</td>\n",
       "      <td>i think mi bf is cheating on me!!!   ...</td>\n",
       "    </tr>\n",
       "    <tr>\n",
       "      <th>5</th>\n",
       "      <td>6</td>\n",
       "      <td>0</td>\n",
       "      <td>or i just worry too much?</td>\n",
       "    </tr>\n",
       "    <tr>\n",
       "      <th>6</th>\n",
       "      <td>7</td>\n",
       "      <td>1</td>\n",
       "      <td>Juuuuuuuuuuuuuuuuussssst Chillin!!</td>\n",
       "    </tr>\n",
       "    <tr>\n",
       "      <th>7</th>\n",
       "      <td>8</td>\n",
       "      <td>0</td>\n",
       "      <td>Sunny Again        Work Tomorrow  :-|  ...</td>\n",
       "    </tr>\n",
       "    <tr>\n",
       "      <th>8</th>\n",
       "      <td>9</td>\n",
       "      <td>1</td>\n",
       "      <td>handed in my uniform today . i miss you ...</td>\n",
       "    </tr>\n",
       "    <tr>\n",
       "      <th>9</th>\n",
       "      <td>10</td>\n",
       "      <td>1</td>\n",
       "      <td>hmmmm.... i wonder how she my number @-)</td>\n",
       "    </tr>\n",
       "    <tr>\n",
       "      <th>10</th>\n",
       "      <td>11</td>\n",
       "      <td>0</td>\n",
       "      <td>I must think about positive..</td>\n",
       "    </tr>\n",
       "    <tr>\n",
       "      <th>11</th>\n",
       "      <td>12</td>\n",
       "      <td>1</td>\n",
       "      <td>thanks to all the haters up in my face a...</td>\n",
       "    </tr>\n",
       "    <tr>\n",
       "      <th>12</th>\n",
       "      <td>13</td>\n",
       "      <td>0</td>\n",
       "      <td>this weekend has sucked so far</td>\n",
       "    </tr>\n",
       "    <tr>\n",
       "      <th>13</th>\n",
       "      <td>14</td>\n",
       "      <td>0</td>\n",
       "      <td>jb isnt showing in australia any more!</td>\n",
       "    </tr>\n",
       "    <tr>\n",
       "      <th>14</th>\n",
       "      <td>15</td>\n",
       "      <td>0</td>\n",
       "      <td>ok thats it you win.</td>\n",
       "    </tr>\n",
       "    <tr>\n",
       "      <th>15</th>\n",
       "      <td>16</td>\n",
       "      <td>0</td>\n",
       "      <td>&amp;lt;-------- This is the way i feel right ...</td>\n",
       "    </tr>\n",
       "    <tr>\n",
       "      <th>16</th>\n",
       "      <td>17</td>\n",
       "      <td>0</td>\n",
       "      <td>awhhe man.... I'm completely useless rt no...</td>\n",
       "    </tr>\n",
       "    <tr>\n",
       "      <th>17</th>\n",
       "      <td>18</td>\n",
       "      <td>1</td>\n",
       "      <td>Feeling strangely fine. Now I'm gonna go l...</td>\n",
       "    </tr>\n",
       "    <tr>\n",
       "      <th>18</th>\n",
       "      <td>19</td>\n",
       "      <td>0</td>\n",
       "      <td>HUGE roll of thunder just now...SO scary!!!!</td>\n",
       "    </tr>\n",
       "    <tr>\n",
       "      <th>19</th>\n",
       "      <td>20</td>\n",
       "      <td>0</td>\n",
       "      <td>I just cut my beard off. It's only been gr...</td>\n",
       "    </tr>\n",
       "    <tr>\n",
       "      <th>20</th>\n",
       "      <td>21</td>\n",
       "      <td>0</td>\n",
       "      <td>Very sad about Iran.</td>\n",
       "    </tr>\n",
       "    <tr>\n",
       "      <th>21</th>\n",
       "      <td>22</td>\n",
       "      <td>0</td>\n",
       "      <td>wompppp wompp</td>\n",
       "    </tr>\n",
       "    <tr>\n",
       "      <th>22</th>\n",
       "      <td>23</td>\n",
       "      <td>1</td>\n",
       "      <td>You're the only one who can see this cause...</td>\n",
       "    </tr>\n",
       "    <tr>\n",
       "      <th>23</th>\n",
       "      <td>24</td>\n",
       "      <td>0</td>\n",
       "      <td>&amp;lt;---Sad level is 3. I was writing a mass...</td>\n",
       "    </tr>\n",
       "    <tr>\n",
       "      <th>24</th>\n",
       "      <td>25</td>\n",
       "      <td>0</td>\n",
       "      <td>...  Headed to Hospitol : Had to pull out o...</td>\n",
       "    </tr>\n",
       "    <tr>\n",
       "      <th>25</th>\n",
       "      <td>26</td>\n",
       "      <td>0</td>\n",
       "      <td>BoRinG   ): whats wrong with him??     Plea...</td>\n",
       "    </tr>\n",
       "    <tr>\n",
       "      <th>26</th>\n",
       "      <td>27</td>\n",
       "      <td>0</td>\n",
       "      <td>can't be bothered. i wish i could spend the...</td>\n",
       "    </tr>\n",
       "    <tr>\n",
       "      <th>27</th>\n",
       "      <td>28</td>\n",
       "      <td>0</td>\n",
       "      <td>Feeeling like shit right now. I really want...</td>\n",
       "    </tr>\n",
       "    <tr>\n",
       "      <th>28</th>\n",
       "      <td>29</td>\n",
       "      <td>1</td>\n",
       "      <td>goodbye exams, HELLO ALCOHOL TONIGHT</td>\n",
       "    </tr>\n",
       "    <tr>\n",
       "      <th>29</th>\n",
       "      <td>30</td>\n",
       "      <td>0</td>\n",
       "      <td>I didn't realize it was THAT deep. Geez giv...</td>\n",
       "    </tr>\n",
       "    <tr>\n",
       "      <th>...</th>\n",
       "      <td>...</td>\n",
       "      <td>...</td>\n",
       "      <td>...</td>\n",
       "    </tr>\n",
       "    <tr>\n",
       "      <th>99959</th>\n",
       "      <td>99971</td>\n",
       "      <td>0</td>\n",
       "      <td>@CT415 @UCLA_Bruin  it made me sad too!  that ...</td>\n",
       "    </tr>\n",
       "    <tr>\n",
       "      <th>99960</th>\n",
       "      <td>99972</td>\n",
       "      <td>1</td>\n",
       "      <td>@CT415 I agree. I think they all have that fet...</td>\n",
       "    </tr>\n",
       "    <tr>\n",
       "      <th>99961</th>\n",
       "      <td>99973</td>\n",
       "      <td>0</td>\n",
       "      <td>@ct415 I hope it's not too serious of an injur...</td>\n",
       "    </tr>\n",
       "    <tr>\n",
       "      <th>99962</th>\n",
       "      <td>99974</td>\n",
       "      <td>0</td>\n",
       "      <td>@ctabita if it's any consolation, this weekend...</td>\n",
       "    </tr>\n",
       "    <tr>\n",
       "      <th>99963</th>\n",
       "      <td>99975</td>\n",
       "      <td>1</td>\n",
       "      <td>@ctayah got your back, yo!</td>\n",
       "    </tr>\n",
       "    <tr>\n",
       "      <th>99964</th>\n",
       "      <td>99976</td>\n",
       "      <td>1</td>\n",
       "      <td>@ctaylor0127 I can't wait to see that movie. E...</td>\n",
       "    </tr>\n",
       "    <tr>\n",
       "      <th>99965</th>\n",
       "      <td>99977</td>\n",
       "      <td>1</td>\n",
       "      <td>@ctaylor10127 @smelby I am excited and a littl...</td>\n",
       "    </tr>\n",
       "    <tr>\n",
       "      <th>99966</th>\n",
       "      <td>99978</td>\n",
       "      <td>0</td>\n",
       "      <td>@ctb1221 yeah  sorry.going to a concert that n...</td>\n",
       "    </tr>\n",
       "    <tr>\n",
       "      <th>99967</th>\n",
       "      <td>99979</td>\n",
       "      <td>1</td>\n",
       "      <td>@ctcash @buildingateam @diabetescure @chocolat...</td>\n",
       "    </tr>\n",
       "    <tr>\n",
       "      <th>99968</th>\n",
       "      <td>99980</td>\n",
       "      <td>1</td>\n",
       "      <td>@ctdesign87 im so glad you went to china town ...</td>\n",
       "    </tr>\n",
       "    <tr>\n",
       "      <th>99969</th>\n",
       "      <td>99981</td>\n",
       "      <td>0</td>\n",
       "      <td>@CTerry1985  Sorry</td>\n",
       "    </tr>\n",
       "    <tr>\n",
       "      <th>99970</th>\n",
       "      <td>99982</td>\n",
       "      <td>0</td>\n",
       "      <td>@CTerry1985 damn it, dont have sky</td>\n",
       "    </tr>\n",
       "    <tr>\n",
       "      <th>99971</th>\n",
       "      <td>99983</td>\n",
       "      <td>0</td>\n",
       "      <td>@CTerry1985 That's the thing; the new raft of ...</td>\n",
       "    </tr>\n",
       "    <tr>\n",
       "      <th>99972</th>\n",
       "      <td>99984</td>\n",
       "      <td>1</td>\n",
       "      <td>@cthagod</td>\n",
       "    </tr>\n",
       "    <tr>\n",
       "      <th>99973</th>\n",
       "      <td>99985</td>\n",
       "      <td>1</td>\n",
       "      <td>@ctham  #FollowFriday</td>\n",
       "    </tr>\n",
       "    <tr>\n",
       "      <th>99974</th>\n",
       "      <td>99986</td>\n",
       "      <td>0</td>\n",
       "      <td>@ctham #awaresg You are not wrong. But from a ...</td>\n",
       "    </tr>\n",
       "    <tr>\n",
       "      <th>99975</th>\n",
       "      <td>99987</td>\n",
       "      <td>0</td>\n",
       "      <td>@ctham @mommyfizz cuz you big burly man.  haha...</td>\n",
       "    </tr>\n",
       "    <tr>\n",
       "      <th>99976</th>\n",
       "      <td>99988</td>\n",
       "      <td>1</td>\n",
       "      <td>@ctham @Wilsurn Trying to get a wider range of...</td>\n",
       "    </tr>\n",
       "    <tr>\n",
       "      <th>99977</th>\n",
       "      <td>99989</td>\n",
       "      <td>1</td>\n",
       "      <td>@ctham Haha I love the passion in your support</td>\n",
       "    </tr>\n",
       "    <tr>\n",
       "      <th>99978</th>\n",
       "      <td>99990</td>\n",
       "      <td>1</td>\n",
       "      <td>@cthulhullahoop That sucks...I like living in ...</td>\n",
       "    </tr>\n",
       "    <tr>\n",
       "      <th>99979</th>\n",
       "      <td>99991</td>\n",
       "      <td>1</td>\n",
       "      <td>@cunningstunts till i can go home been here ti...</td>\n",
       "    </tr>\n",
       "    <tr>\n",
       "      <th>99980</th>\n",
       "      <td>99992</td>\n",
       "      <td>1</td>\n",
       "      <td>@cunningstunts22 afternoon jim hows you  x</td>\n",
       "    </tr>\n",
       "    <tr>\n",
       "      <th>99981</th>\n",
       "      <td>99993</td>\n",
       "      <td>0</td>\n",
       "      <td>@cup_a_tea The foot is really bad. Like the wo...</td>\n",
       "    </tr>\n",
       "    <tr>\n",
       "      <th>99982</th>\n",
       "      <td>99994</td>\n",
       "      <td>1</td>\n",
       "      <td>@Cup_Of_Katy Have fun doing health &amp;amp; safet...</td>\n",
       "    </tr>\n",
       "    <tr>\n",
       "      <th>99983</th>\n",
       "      <td>99995</td>\n",
       "      <td>0</td>\n",
       "      <td>@cupati It took me waaay too long to get your ...</td>\n",
       "    </tr>\n",
       "    <tr>\n",
       "      <th>99984</th>\n",
       "      <td>99996</td>\n",
       "      <td>0</td>\n",
       "      <td>@Cupcake  seems like a repeating problem   hop...</td>\n",
       "    </tr>\n",
       "    <tr>\n",
       "      <th>99985</th>\n",
       "      <td>99997</td>\n",
       "      <td>1</td>\n",
       "      <td>@cupcake__ arrrr we both replied to each other...</td>\n",
       "    </tr>\n",
       "    <tr>\n",
       "      <th>99986</th>\n",
       "      <td>99998</td>\n",
       "      <td>0</td>\n",
       "      <td>@CuPcAkE_2120 ya i thought so</td>\n",
       "    </tr>\n",
       "    <tr>\n",
       "      <th>99987</th>\n",
       "      <td>99999</td>\n",
       "      <td>1</td>\n",
       "      <td>@Cupcake_Dollie Yes. Yes. I'm glad you had mor...</td>\n",
       "    </tr>\n",
       "    <tr>\n",
       "      <th>99988</th>\n",
       "      <td>100000</td>\n",
       "      <td>1</td>\n",
       "      <td>@cupcake_kayla haha yes you do</td>\n",
       "    </tr>\n",
       "  </tbody>\n",
       "</table>\n",
       "<p>99989 rows × 3 columns</p>\n",
       "</div>"
      ],
      "text/plain": [
       "       ItemID  Sentiment                                      SentimentText\n",
       "0           1          0                       is so sad for my APL frie...\n",
       "1           2          0                     I missed the New Moon trail...\n",
       "2           3          1                            omg its already 7:30 :O\n",
       "3           4          0            .. Omgaga. Im sooo  im gunna CRy. I'...\n",
       "4           5          0           i think mi bf is cheating on me!!!   ...\n",
       "5           6          0                  or i just worry too much?        \n",
       "6           7          1                 Juuuuuuuuuuuuuuuuussssst Chillin!!\n",
       "7           8          0         Sunny Again        Work Tomorrow  :-|  ...\n",
       "8           9          1        handed in my uniform today . i miss you ...\n",
       "9          10          1           hmmmm.... i wonder how she my number @-)\n",
       "10         11          0                      I must think about positive..\n",
       "11         12          1        thanks to all the haters up in my face a...\n",
       "12         13          0                     this weekend has sucked so far\n",
       "13         14          0             jb isnt showing in australia any more!\n",
       "14         15          0                               ok thats it you win.\n",
       "15         16          0      &lt;-------- This is the way i feel right ...\n",
       "16         17          0      awhhe man.... I'm completely useless rt no...\n",
       "17         18          1      Feeling strangely fine. Now I'm gonna go l...\n",
       "18         19          0       HUGE roll of thunder just now...SO scary!!!!\n",
       "19         20          0      I just cut my beard off. It's only been gr...\n",
       "20         21          0                               Very sad about Iran.\n",
       "21         22          0                                      wompppp wompp\n",
       "22         23          1      You're the only one who can see this cause...\n",
       "23         24          0     &lt;---Sad level is 3. I was writing a mass...\n",
       "24         25          0     ...  Headed to Hospitol : Had to pull out o...\n",
       "25         26          0     BoRinG   ): whats wrong with him??     Plea...\n",
       "26         27          0     can't be bothered. i wish i could spend the...\n",
       "27         28          0     Feeeling like shit right now. I really want...\n",
       "28         29          1              goodbye exams, HELLO ALCOHOL TONIGHT \n",
       "29         30          0     I didn't realize it was THAT deep. Geez giv...\n",
       "...       ...        ...                                                ...\n",
       "99959   99971          0  @CT415 @UCLA_Bruin  it made me sad too!  that ...\n",
       "99960   99972          1  @CT415 I agree. I think they all have that fet...\n",
       "99961   99973          0  @ct415 I hope it's not too serious of an injur...\n",
       "99962   99974          0  @ctabita if it's any consolation, this weekend...\n",
       "99963   99975          1                        @ctayah got your back, yo! \n",
       "99964   99976          1  @ctaylor0127 I can't wait to see that movie. E...\n",
       "99965   99977          1  @ctaylor10127 @smelby I am excited and a littl...\n",
       "99966   99978          0  @ctb1221 yeah  sorry.going to a concert that n...\n",
       "99967   99979          1  @ctcash @buildingateam @diabetescure @chocolat...\n",
       "99968   99980          1  @ctdesign87 im so glad you went to china town ...\n",
       "99969   99981          0                                 @CTerry1985  Sorry\n",
       "99970   99982          0                @CTerry1985 damn it, dont have sky \n",
       "99971   99983          0  @CTerry1985 That's the thing; the new raft of ...\n",
       "99972   99984          1                                          @cthagod \n",
       "99973   99985          1                              @ctham  #FollowFriday\n",
       "99974   99986          0  @ctham #awaresg You are not wrong. But from a ...\n",
       "99975   99987          0  @ctham @mommyfizz cuz you big burly man.  haha...\n",
       "99976   99988          1  @ctham @Wilsurn Trying to get a wider range of...\n",
       "99977   99989          1    @ctham Haha I love the passion in your support \n",
       "99978   99990          1  @cthulhullahoop That sucks...I like living in ...\n",
       "99979   99991          1  @cunningstunts till i can go home been here ti...\n",
       "99980   99992          1         @cunningstunts22 afternoon jim hows you  x\n",
       "99981   99993          0  @cup_a_tea The foot is really bad. Like the wo...\n",
       "99982   99994          1  @Cup_Of_Katy Have fun doing health &amp; safet...\n",
       "99983   99995          0  @cupati It took me waaay too long to get your ...\n",
       "99984   99996          0  @Cupcake  seems like a repeating problem   hop...\n",
       "99985   99997          1  @cupcake__ arrrr we both replied to each other...\n",
       "99986   99998          0                     @CuPcAkE_2120 ya i thought so \n",
       "99987   99999          1  @Cupcake_Dollie Yes. Yes. I'm glad you had mor...\n",
       "99988  100000          1                    @cupcake_kayla haha yes you do \n",
       "\n",
       "[99989 rows x 3 columns]"
      ]
     },
     "execution_count": 32,
     "metadata": {},
     "output_type": "execute_result"
    }
   ],
   "source": [
    "msgs = pd.read_csv('train.csv', encoding = \"ISO-8859-1\")\n",
    "msgs"
   ]
  },
  {
   "cell_type": "code",
   "execution_count": 40,
   "metadata": {},
   "outputs": [
    {
     "name": "stdout",
     "output_type": "stream",
     "text": [
      "predicted: 1\n"
     ]
    }
   ],
   "source": [
    "message4 = 'I happy why'\n",
    "bow4 = bow_transformer.transform([message4])\n",
    "tfidf4 = tfidf_transformer.transform(bow4)\n",
    "print('predicted:', spam_detector.predict(tfidf4)[0])"
   ]
  },
  {
   "cell_type": "code",
   "execution_count": null,
   "metadata": {},
   "outputs": [],
   "source": []
  }
 ],
 "metadata": {
  "kernelspec": {
   "display_name": "Python 3",
   "language": "python",
   "name": "python3"
  },
  "language_info": {
   "codemirror_mode": {
    "name": "ipython",
    "version": 3
   },
   "file_extension": ".py",
   "mimetype": "text/x-python",
   "name": "python",
   "nbconvert_exporter": "python",
   "pygments_lexer": "ipython3",
   "version": "3.6.3"
  }
 },
 "nbformat": 4,
 "nbformat_minor": 2
}
